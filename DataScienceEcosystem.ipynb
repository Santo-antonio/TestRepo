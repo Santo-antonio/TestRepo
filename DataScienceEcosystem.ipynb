{
 "cells": [
  {
   "attachments": {},
   "cell_type": "markdown",
   "id": "5a420dea-aa56-4c8f-a603-c067cf48ae25",
   "metadata": {},
   "source": [
    "# Data Science Tools and Ecosystem"
   ]
  },
  {
   "cell_type": "code",
   "execution_count": null,
   "id": "75745417-b6e2-4fec-8b8c-ee83098cfdd8",
   "metadata": {},
   "outputs": [],
   "source": []
  },
  {
   "cell_type": "markdown",
   "id": "894b828f-9465-4d1e-b400-3ab0f3712db9",
   "metadata": {},
   "source": [
    "In this notebook, Data Science Tools and Ecosystem are summarized."
   ]
  },
  {
   "cell_type": "markdown",
   "id": "e2685e3b-2fbd-4cef-a400-81f0dc078905",
   "metadata": {},
   "source": [
    "**Objectives:** some of the key takeaways from the course\n",
    "    \n",
    "List popular languages for Data Science\n",
    "\n",
    "unordered list:\n",
    "- R\n",
    "- Python\n",
    "- Java\n",
    "- SQL\n",
    "- Javascript\n"
   ]
  },
  {
   "cell_type": "code",
   "execution_count": null,
   "id": "fc3b2296-1530-4da9-935c-3af027386933",
   "metadata": {},
   "outputs": [],
   "source": []
  },
  {
   "cell_type": "markdown",
   "id": "29fac95e-cfbc-42a4-afb2-8bdc5d77ecd0",
   "metadata": {},
   "source": [
    "Some of the popular languages that Data Scientists use are:\n",
    "\n",
    "ordered list\n",
    "1. Python\n",
    "2. R\n",
    "3. SQL"
   ]
  },
  {
   "cell_type": "code",
   "execution_count": null,
   "id": "1a0be019-3a02-4c94-997d-ac485c6fcd97",
   "metadata": {},
   "outputs": [],
   "source": []
  },
  {
   "cell_type": "markdown",
   "id": "1ec8dab2-116c-49a2-9be9-37c5d2ce73bd",
   "metadata": {},
   "source": [
    "Some of the commonly used libraries used by Data Scientists include:\n",
    "ordered list\n",
    "1. Pandas\n",
    "2. Matplotlib\n",
    "3. NumPy"
   ]
  },
  {
   "cell_type": "code",
   "execution_count": null,
   "id": "f60cb550-6f68-4e93-90b7-0f3801978d83",
   "metadata": {},
   "outputs": [],
   "source": []
  },
  {
   "cell_type": "markdown",
   "id": "4740cd5c-cef3-4e77-b97c-0e7616648ce5",
   "metadata": {},
   "source": [
    "| Data Science Tools |\n",
    "|---|\n",
    "Python\n",
    "Apache Spark\n",
    "Jupyter Notebooks\n",
    "---"
   ]
  },
  {
   "cell_type": "code",
   "execution_count": null,
   "id": "9c7418cc-cde6-42cb-8ec1-2a12c45648f1",
   "metadata": {},
   "outputs": [],
   "source": []
  },
  {
   "cell_type": "markdown",
   "id": "d53a5cb5-5173-4ee5-b54e-e6695dfd5805",
   "metadata": {},
   "source": [
    "### Below are a few examples of evaluating arithmetic expressions in Python"
   ]
  },
  {
   "cell_type": "code",
   "execution_count": 3,
   "id": "450c2377-1c1e-452e-bb07-c5bf444fc47e",
   "metadata": {},
   "outputs": [
    {
     "data": {
      "text/plain": [
       "17"
      ]
     },
     "execution_count": 3,
     "metadata": {},
     "output_type": "execute_result"
    }
   ],
   "source": [
    "#This a simple arithmetic expression to mutiply then add integers\n",
    "(3*4)+5"
   ]
  },
  {
   "cell_type": "code",
   "execution_count": null,
   "id": "cb5f99aa-74be-495e-8542-77f9d68fdb72",
   "metadata": {},
   "outputs": [],
   "source": []
  },
  {
   "cell_type": "code",
   "execution_count": 9,
   "id": "d3b0c232-0f54-495a-9913-bf1467322c1a",
   "metadata": {},
   "outputs": [
    {
     "name": "stdout",
     "output_type": "stream",
     "text": [
      "3.3333333333333335\n"
     ]
    }
   ],
   "source": [
    "#This will convert 200 minutes to hours by diving by 60\n",
    "\n",
    "print(200/60)"
   ]
  },
  {
   "cell_type": "code",
   "execution_count": null,
   "id": "d51ebb14-db2e-473a-8bad-ea2399c9a01d",
   "metadata": {},
   "outputs": [],
   "source": []
  },
  {
   "cell_type": "markdown",
   "id": "89cd63ba-4e8d-41a5-8dd2-5e7042fd284c",
   "metadata": {},
   "source": [
    "## Author:\n",
    "\n",
    "\n",
    "Santo António"
   ]
  },
  {
   "cell_type": "code",
   "execution_count": null,
   "id": "89e11812-eacc-4cf0-923c-a19bb0db61fa",
   "metadata": {},
   "outputs": [],
   "source": []
  }
 ],
 "metadata": {
  "kernelspec": {
   "display_name": "Python 3 (ipykernel)",
   "language": "python",
   "name": "python3"
  },
  "language_info": {
   "codemirror_mode": {
    "name": "ipython",
    "version": 3
   },
   "file_extension": ".py",
   "mimetype": "text/x-python",
   "name": "python",
   "nbconvert_exporter": "python",
   "pygments_lexer": "ipython3",
   "version": "3.12.7"
  }
 },
 "nbformat": 4,
 "nbformat_minor": 5
}
